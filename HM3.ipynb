{
 "cells": [
  {
   "cell_type": "markdown",
   "metadata": {},
   "source": [
    "# Home 3: Build a CNN for image recognition.\n",
    "\n",
    "### Name: Amir Morcos\n"
   ]
  },
  {
   "cell_type": "markdown",
   "metadata": {},
   "source": [
    "## 0. You will do the following:\n",
    "\n",
    "1. Read, complete, and run the code.\n",
    "\n",
    "2. **Make substantial improvements** to maximize the accurcy.\n",
    "    \n",
    "3. Convert the .IPYNB file to .HTML file.\n",
    "\n",
    "    * The HTML file must contain the code and the output after execution.\n",
    "    \n",
    "    \n",
    "4. Upload this .HTML file to your Google Drive, Dropbox, or Github repo.\n",
    "\n",
    "4. Submit the link to this .HTML file to Canvas.\n",
    "\n",
    "    * Example: https://github.com/wangshusen/CS583-2019F/blob/master/homework/HM3/HM3.html\n",
    "\n",
    "\n",
    "## Requirements:\n",
    "\n",
    "1. You can use whatever CNN architecture, including VGG, Inception, and ResNet. However, you must build the networks layer by layer. You must NOT import the archetectures from ```keras.applications```.\n",
    "\n",
    "2. Make sure ```BatchNormalization``` is between a ```Conv```/```Dense``` layer and an ```activation``` layer.\n",
    "\n",
    "3. If you want to regularize a ```Conv```/```Dense``` layer, you should place a ```Dropout``` layer **before** the ```Conv```/```Dense``` layer.\n",
    "\n",
    "4. An accuracy above 70% is considered reasonable. An accuracy above 80% is considered good. Without data augmentation, achieving 80% accuracy is difficult.\n",
    "\n",
    "\n",
    "## Google Colab\n",
    "\n",
    "- If you do not have GPU, the training of a CNN can be slow. Google Colab is a good option.\n",
    "\n",
    "- Keep in mind that you must download it as an IPYNB file and then use IPython Notebook to convert it to HTML.\n",
    "\n",
    "- Also keep in mind that the IPYNB and HTML files must contain the outputs. (Otherwise, the instructor will not be able to know the correctness and performance.) Do the followings to keep the outputs.\n",
    "\n",
    "- In Colab, go to ```Runtime``` --> ```Change runtime type``` --> Do NOT check ```Omit code cell output when saving this notebook```. In this way, the downloaded IPYNB file contains the outputs."
   ]
  },
  {
   "cell_type": "markdown",
   "metadata": {},
   "source": [
    "## 1. Data preparation"
   ]
  },
  {
   "cell_type": "markdown",
   "metadata": {},
   "source": [
    "### 1.1. Load data\n"
   ]
  },
  {
   "cell_type": "code",
   "execution_count": 2,
   "metadata": {},
   "outputs": [
    {
     "name": "stderr",
     "output_type": "stream",
     "text": [
      "Using TensorFlow backend.\n"
     ]
    },
    {
     "name": "stdout",
     "output_type": "stream",
     "text": [
      "shape of x_train: (50000, 32, 32, 3)\n",
      "shape of y_train: (50000, 1)\n",
      "shape of x_test: (10000, 32, 32, 3)\n",
      "shape of y_test: (10000, 1)\n",
      "number of classes: 10\n"
     ]
    }
   ],
   "source": [
    "from keras.datasets import cifar10\n",
    "import numpy\n",
    "\n",
    "(x_train, y_train), (x_test, y_test) = cifar10.load_data()\n",
    "\n",
    "print('shape of x_train: ' + str(x_train.shape))\n",
    "print('shape of y_train: ' + str(y_train.shape))\n",
    "print('shape of x_test: ' + str(x_test.shape))\n",
    "print('shape of y_test: ' + str(y_test.shape))\n",
    "print('number of classes: ' + str(numpy.max(y_train) - numpy.min(y_train) + 1))"
   ]
  },
  {
   "cell_type": "markdown",
   "metadata": {},
   "source": [
    "### 1.2. One-hot encode the labels\n",
    "\n",
    "In the input, a label is a scalar in $\\{0, 1, \\cdots , 9\\}$. One-hot encode transform such a scalar to a $10$-dim vector. E.g., a scalar ```y_train[j]=3``` is transformed to the vector ```y_train_vec[j]=[0, 0, 0, 1, 0, 0, 0, 0, 0, 0]```.\n",
    "\n",
    "1. Define a function ```to_one_hot``` that transforms an $n\\times 1$ array to a $n\\times 10$ matrix.\n",
    "\n",
    "2. Apply the function to ```y_train``` and ```y_test```."
   ]
  },
  {
   "cell_type": "code",
   "execution_count": 3,
   "metadata": {},
   "outputs": [
    {
     "name": "stdout",
     "output_type": "stream",
     "text": [
      "Shape of y_train_vec: (50000, 10)\n",
      "Shape of y_test_vec: (10000, 10)\n",
      "[6]\n",
      "[0. 0. 0. 0. 0. 0. 1. 0. 0. 0.]\n"
     ]
    }
   ],
   "source": [
    "def to_one_hot(y, num_class=10):\n",
    "    RetArray = numpy.zeros((len(y),num_class))\n",
    "    for i in y:\n",
    "         RetArray[i,y[i]] = 1 #there should be a better way to do this though list comprehension, I just cant think of it \n",
    "    \n",
    "    return RetArray\n",
    "\n",
    "y_train_vec = to_one_hot(y_train)\n",
    "y_test_vec = to_one_hot(y_test)\n",
    "\n",
    "print('Shape of y_train_vec: ' + str(y_train_vec.shape))\n",
    "print('Shape of y_test_vec: ' + str(y_test_vec.shape))\n",
    "\n",
    "print(y_train[0])\n",
    "print(y_train_vec[0])"
   ]
  },
  {
   "cell_type": "markdown",
   "metadata": {},
   "source": [
    "#### Remark: the outputs should be\n",
    "* Shape of y_train_vec: (50000, 10)\n",
    "* Shape of y_test_vec: (10000, 10)\n",
    "* [6]\n",
    "* [0. 0. 0. 0. 0. 0. 1. 0. 0. 0.]"
   ]
  },
  {
   "cell_type": "markdown",
   "metadata": {},
   "source": [
    "### 1.3. Randomly partition the training set to training and validation sets\n",
    "\n",
    "Randomly partition the 50K training samples to 2 sets:\n",
    "* a training set containing 40K samples\n",
    "* a validation set containing 10K samples\n"
   ]
  },
  {
   "cell_type": "code",
   "execution_count": 4,
   "metadata": {},
   "outputs": [
    {
     "name": "stdout",
     "output_type": "stream",
     "text": [
      "Shape of x_tr: (40000, 32, 32, 3)\n",
      "Shape of y_tr: (40000, 10)\n",
      "Shape of x_val: (10000, 32, 32, 3)\n",
      "Shape of y_val: (10000, 10)\n"
     ]
    }
   ],
   "source": [
    "rand_indices = numpy.random.permutation(50000)\n",
    "train_indices = rand_indices[0:40000]\n",
    "valid_indices = rand_indices[40000:50000]\n",
    "\n",
    "x_val = x_train[valid_indices, :]/255.0 #Added this to make it between zero and 1\n",
    "y_val = y_train_vec[valid_indices, :]\n",
    "\n",
    "x_tr = x_train[train_indices, :]/255.0\n",
    "y_tr = y_train_vec[train_indices, :]\n",
    "\n",
    "print('Shape of x_tr: ' + str(x_tr.shape))\n",
    "print('Shape of y_tr: ' + str(y_tr.shape))\n",
    "print('Shape of x_val: ' + str(x_val.shape))\n",
    "print('Shape of y_val: ' + str(y_val.shape))"
   ]
  },
  {
   "cell_type": "code",
   "execution_count": null,
   "metadata": {},
   "outputs": [],
   "source": []
  },
  {
   "cell_type": "markdown",
   "metadata": {},
   "source": [
    "## 2. Build a CNN and tune its hyper-parameters\n",
    "\n",
    "1. Build a convolutional neural network model\n",
    "2. Use the validation data to tune the hyper-parameters (e.g., network structure, and optimization algorithm)\n",
    "    * Do NOT use test data for hyper-parameter tuning!!!\n",
    "3. Try to achieve a validation accuracy as high as possible."
   ]
  },
  {
   "cell_type": "markdown",
   "metadata": {},
   "source": [
    "### Remark: \n",
    "\n",
    "The following CNN is just an example. You are supposed to make **substantial improvements** such as:\n",
    "* Add more layers.\n",
    "* Use regularizations, e.g., dropout.\n",
    "* Use batch normalization."
   ]
  },
  {
   "cell_type": "code",
   "execution_count": 5,
   "metadata": {},
   "outputs": [
    {
     "name": "stdout",
     "output_type": "stream",
     "text": [
      "Model: \"sequential_1\"\n",
      "_________________________________________________________________\n",
      "Layer (type)                 Output Shape              Param #   \n",
      "=================================================================\n",
      "conv2d_1 (Conv2D)            (None, 32, 32, 32)        896       \n",
      "_________________________________________________________________\n",
      "activation_1 (Activation)    (None, 32, 32, 32)        0         \n",
      "_________________________________________________________________\n",
      "conv2d_2 (Conv2D)            (None, 32, 32, 32)        9248      \n",
      "_________________________________________________________________\n",
      "batch_normalization_1 (Batch (None, 32, 32, 32)        128       \n",
      "_________________________________________________________________\n",
      "activation_2 (Activation)    (None, 32, 32, 32)        0         \n",
      "_________________________________________________________________\n",
      "max_pooling2d_1 (MaxPooling2 (None, 16, 16, 32)        0         \n",
      "_________________________________________________________________\n",
      "conv2d_3 (Conv2D)            (None, 16, 16, 64)        18496     \n",
      "_________________________________________________________________\n",
      "activation_3 (Activation)    (None, 16, 16, 64)        0         \n",
      "_________________________________________________________________\n",
      "conv2d_4 (Conv2D)            (None, 16, 16, 64)        36928     \n",
      "_________________________________________________________________\n",
      "batch_normalization_2 (Batch (None, 16, 16, 64)        256       \n",
      "_________________________________________________________________\n",
      "activation_4 (Activation)    (None, 16, 16, 64)        0         \n",
      "_________________________________________________________________\n",
      "max_pooling2d_2 (MaxPooling2 (None, 8, 8, 64)          0         \n",
      "_________________________________________________________________\n",
      "conv2d_5 (Conv2D)            (None, 8, 8, 128)         73856     \n",
      "_________________________________________________________________\n",
      "activation_5 (Activation)    (None, 8, 8, 128)         0         \n",
      "_________________________________________________________________\n",
      "conv2d_6 (Conv2D)            (None, 8, 8, 128)         147584    \n",
      "_________________________________________________________________\n",
      "batch_normalization_3 (Batch (None, 8, 8, 128)         512       \n",
      "_________________________________________________________________\n",
      "activation_6 (Activation)    (None, 8, 8, 128)         0         \n",
      "_________________________________________________________________\n",
      "max_pooling2d_3 (MaxPooling2 (None, 2, 2, 128)         0         \n",
      "_________________________________________________________________\n",
      "flatten_1 (Flatten)          (None, 512)               0         \n",
      "_________________________________________________________________\n",
      "dropout_1 (Dropout)          (None, 512)               0         \n",
      "_________________________________________________________________\n",
      "dense_1 (Dense)              (None, 1024)              525312    \n",
      "_________________________________________________________________\n",
      "dropout_2 (Dropout)          (None, 1024)              0         \n",
      "_________________________________________________________________\n",
      "dense_2 (Dense)              (None, 512)               524800    \n",
      "_________________________________________________________________\n",
      "dense_3 (Dense)              (None, 10)                5130      \n",
      "=================================================================\n",
      "Total params: 1,343,146\n",
      "Trainable params: 1,342,698\n",
      "Non-trainable params: 448\n",
      "_________________________________________________________________\n"
     ]
    }
   ],
   "source": [
    "from keras.layers import Conv2D, MaxPooling2D, Flatten, Dense, BatchNormalization, Activation, Dropout\n",
    "from keras.models import Sequential\n",
    "\n",
    "model = Sequential()\n",
    "model.add(Conv2D(32, (3, 3), padding='same', input_shape=(32, 32, 3)))\n",
    "model.add(Activation('relu'))\n",
    "\n",
    "\n",
    "\n",
    "model.add(Conv2D(32, (3, 3), padding='same'))\n",
    "model.add(BatchNormalization())\n",
    "model.add(Activation('relu'))\n",
    "\n",
    "model.add(MaxPooling2D((2, 2)))\n",
    "\n",
    "model.add(Conv2D(64, (3, 3), padding='same'))\n",
    "model.add(Activation('relu'))\n",
    "\n",
    "model.add(Conv2D(64, (3, 3), padding='same'))\n",
    "model.add(BatchNormalization())\n",
    "model.add(Activation('relu'))\n",
    "\n",
    "model.add(MaxPooling2D((2, 2)))\n",
    "\n",
    "\n",
    "model.add(Conv2D(128, (3, 3), padding='same'))\n",
    "model.add(Activation('relu'))\n",
    "\n",
    "model.add(Conv2D(128, (3, 3), padding='same'))\n",
    "model.add(BatchNormalization())\n",
    "model.add(Activation('relu'))\n",
    "\n",
    "model.add(MaxPooling2D((3, 3)))\n",
    "\n",
    "model.add(Flatten())\n",
    "\n",
    "model.add(Dropout(0.3))\n",
    "model.add(Dense(1024, activation='relu'))\n",
    "\n",
    "model.add(Dropout(0.5))\n",
    "model.add(Dense(512, activation='relu'))\n",
    "\n",
    "model.add(Dense(10, activation='softmax'))\n",
    "\n",
    "model.summary()"
   ]
  },
  {
   "cell_type": "code",
   "execution_count": null,
   "metadata": {},
   "outputs": [],
   "source": []
  },
  {
   "cell_type": "code",
   "execution_count": 6,
   "metadata": {},
   "outputs": [],
   "source": [
    "from keras import optimizers\n",
    "\n",
    "learning_rate = 1E-5 # to be tuned!\n",
    "\n",
    "model.compile(loss='categorical_crossentropy',\n",
    "              #optimizer=optimizers.RMSprop(lr=learning_rate),\n",
    "              #optimizer=optimizers.adam(),\n",
    "              optimizer=optimizers.SGD(learning_rate=learning_rate, momentum=0.1),\n",
    "              metrics=['acc'])"
   ]
  },
  {
   "cell_type": "code",
   "execution_count": 7,
   "metadata": {},
   "outputs": [
    {
     "name": "stdout",
     "output_type": "stream",
     "text": [
      "Train on 40000 samples, validate on 10000 samples\n",
      "Epoch 1/25\n",
      "40000/40000 [==============================] - 13s 332us/step - loss: 6.6524e-04 - acc: 0.0010 - val_loss: 0.0000e+00 - val_acc: 0.0000e+00\n",
      "Epoch 2/25\n",
      "40000/40000 [==============================] - 10s 246us/step - loss: 6.9673e-04 - acc: 0.0036 - val_loss: 0.0000e+00 - val_acc: 0.0000e+00\n",
      "Epoch 3/25\n",
      "40000/40000 [==============================] - 10s 243us/step - loss: 8.1120e-04 - acc: 0.0133 - val_loss: 0.0000e+00 - val_acc: 0.0011\n",
      "Epoch 4/25\n",
      "40000/40000 [==============================] - 10s 242us/step - loss: 7.7052e-04 - acc: 0.0288 - val_loss: 0.0000e+00 - val_acc: 0.0165\n",
      "Epoch 5/25\n",
      "40000/40000 [==============================] - 10s 244us/step - loss: 6.2237e-04 - acc: 0.0501 - val_loss: 0.0000e+00 - val_acc: 0.0623\n",
      "Epoch 6/25\n",
      "40000/40000 [==============================] - 10s 241us/step - loss: 7.2393e-04 - acc: 0.0671 - val_loss: 0.0000e+00 - val_acc: 0.1203\n",
      "Epoch 7/25\n",
      "40000/40000 [==============================] - 10s 254us/step - loss: 7.1340e-04 - acc: 0.0809 - val_loss: 0.0000e+00 - val_acc: 0.1547\n",
      "Epoch 8/25\n",
      "40000/40000 [==============================] - 10s 243us/step - loss: 7.4997e-04 - acc: 0.0861 - val_loss: 0.0000e+00 - val_acc: 0.1307\n",
      "Epoch 9/25\n",
      "40000/40000 [==============================] - 10s 243us/step - loss: 8.4176e-04 - acc: 0.0873 - val_loss: 0.0000e+00 - val_acc: 0.0846\n",
      "Epoch 10/25\n",
      "40000/40000 [==============================] - 10s 243us/step - loss: 0.0010 - acc: 0.0893 - val_loss: 0.0000e+00 - val_acc: 0.0493\n",
      "Epoch 11/25\n",
      "40000/40000 [==============================] - 10s 242us/step - loss: 9.1130e-04 - acc: 0.0912 - val_loss: 0.0000e+00 - val_acc: 0.0275\n",
      "Epoch 12/25\n",
      "40000/40000 [==============================] - 10s 244us/step - loss: 0.0013 - acc: 0.0953 - val_loss: 0.0000e+00 - val_acc: 0.0116\n",
      "Epoch 13/25\n",
      "40000/40000 [==============================] - 10s 242us/step - loss: 0.0011 - acc: 0.0965 - val_loss: 0.0000e+00 - val_acc: 9.0000e-04\n",
      "Epoch 14/25\n",
      "40000/40000 [==============================] - 10s 244us/step - loss: 0.0016 - acc: 0.0980 - val_loss: 0.0000e+00 - val_acc: 0.0000e+00\n",
      "Epoch 15/25\n",
      "40000/40000 [==============================] - 10s 243us/step - loss: 0.0042 - acc: 0.0988 - val_loss: 0.0000e+00 - val_acc: 0.0000e+00\n",
      "Epoch 16/25\n",
      "40000/40000 [==============================] - 10s 242us/step - loss: nan - acc: 0.3104 - val_loss: nan - val_acc: 1.0000\n",
      "Epoch 17/25\n",
      "40000/40000 [==============================] - 10s 243us/step - loss: nan - acc: 0.9998 - val_loss: nan - val_acc: 1.0000\n",
      "Epoch 18/25\n",
      "40000/40000 [==============================] - 10s 244us/step - loss: nan - acc: 0.9998 - val_loss: nan - val_acc: 1.0000\n",
      "Epoch 19/25\n",
      "40000/40000 [==============================] - 10s 243us/step - loss: nan - acc: 0.9998 - val_loss: nan - val_acc: 1.0000\n",
      "Epoch 20/25\n",
      "40000/40000 [==============================] - 10s 244us/step - loss: nan - acc: 0.9998 - val_loss: nan - val_acc: 1.0000\n",
      "Epoch 21/25\n",
      "40000/40000 [==============================] - 10s 242us/step - loss: nan - acc: 0.9998 - val_loss: nan - val_acc: 1.0000\n",
      "Epoch 22/25\n",
      "40000/40000 [==============================] - 10s 243us/step - loss: nan - acc: 0.9998 - val_loss: nan - val_acc: 1.0000\n",
      "Epoch 23/25\n",
      "40000/40000 [==============================] - 10s 243us/step - loss: nan - acc: 0.9998 - val_loss: nan - val_acc: 1.0000\n",
      "Epoch 24/25\n",
      "40000/40000 [==============================] - 10s 242us/step - loss: nan - acc: 0.9998 - val_loss: nan - val_acc: 1.0000\n",
      "Epoch 25/25\n",
      "40000/40000 [==============================] - 10s 243us/step - loss: nan - acc: 0.9998 - val_loss: nan - val_acc: 1.0000\n"
     ]
    }
   ],
   "source": [
    "history = model.fit(x_tr, y_tr, batch_size=64, epochs=25, validation_data=(x_val, y_val))"
   ]
  },
  {
   "cell_type": "code",
   "execution_count": 8,
   "metadata": {},
   "outputs": [
    {
     "data": {
      "image/png": "[encoded data removed]",
      "text/plain": [
       "<Figure size 432x288 with 1 Axes>"
      ]
     },
     "metadata": {
      "needs_background": "light"
     },
     "output_type": "display_data"
    }
   ],
   "source": [
    "import matplotlib.pyplot as plt\n",
    "%matplotlib inline\n",
    "\n",
    "acc = history.history['acc']\n",
    "val_acc = history.history['val_acc']\n",
    "\n",
    "epochs = range(len(acc))\n",
    "\n",
    "plt.plot(epochs, val_acc, 'r', label='Validation acc')\n",
    "plt.plot(epochs, acc, 'bo', label='Training acc')\n",
    "\n",
    "plt.xlabel('Epochs')\n",
    "plt.ylabel('Accuracy')\n",
    "plt.legend()\n",
    "plt.show()\n"
   ]
  },
  {
   "cell_type": "code",
   "execution_count": 9,
   "metadata": {},
   "outputs": [
    {
     "data": {
      "image/png": "[encoded data removed]",
      "text/plain": [
       "<Figure size 432x288 with 1 Axes>"
      ]
     },
     "metadata": {
      "needs_background": "light"
     },
     "output_type": "display_data"
    }
   ],
   "source": [
    "\n",
    "loss = history.history['loss']\n",
    "val_loss = history.history['val_loss']\n",
    "\n",
    "epochs = range(len(loss))\n",
    "\n",
    "plt.plot(epochs, val_loss, 'r', label='Validation loss')\n",
    "plt.plot(epochs, loss, 'bo', label='Training loss')\n",
    "\n",
    "plt.xlabel('Epochs')\n",
    "plt.ylabel('Accuracy')\n",
    "plt.legend()\n",
    "plt.show()"
   ]
  },
  {
   "cell_type": "code",
   "execution_count": 10,
   "metadata": {},
   "outputs": [],
   "source": [
    "model.save('my_model_Complete_ReRun.h5') "
   ]
  },
  {
   "cell_type": "markdown",
   "metadata": {},
   "source": [
    "## 3. Train (again) and evaluate the model\n",
    "\n",
    "- To this end, you have found the \"best\" hyper-parameters. \n",
    "- Now, fix the hyper-parameters and train the network on the entire training set (all the 50K training samples)\n",
    "- Evaluate your model on the test set."
   ]
  },
  {
   "cell_type": "markdown",
   "metadata": {},
   "source": [
    "### 3.1. Train the model on the entire training set\n",
    "\n",
    "Why? Previously, you used 40K samples for training; you wasted 10K samples for the sake of hyper-parameter tuning. Now you already know the hyper-parameters, so why not using all the 50K samples for training?"
   ]
  },
  {
   "cell_type": "code",
   "execution_count": 11,
   "metadata": {},
   "outputs": [
    {
     "name": "stdout",
     "output_type": "stream",
     "text": [
      "Model: \"sequential_2\"\n",
      "_________________________________________________________________\n",
      "Layer (type)                 Output Shape              Param #   \n",
      "=================================================================\n",
      "conv2d_7 (Conv2D)            (None, 32, 32, 32)        896       \n",
      "_________________________________________________________________\n",
      "activation_7 (Activation)    (None, 32, 32, 32)        0         \n",
      "_________________________________________________________________\n",
      "conv2d_8 (Conv2D)            (None, 32, 32, 32)        9248      \n",
      "_________________________________________________________________\n",
      "batch_normalization_4 (Batch (None, 32, 32, 32)        128       \n",
      "_________________________________________________________________\n",
      "activation_8 (Activation)    (None, 32, 32, 32)        0         \n",
      "_________________________________________________________________\n",
      "max_pooling2d_4 (MaxPooling2 (None, 16, 16, 32)        0         \n",
      "_________________________________________________________________\n",
      "conv2d_9 (Conv2D)            (None, 16, 16, 64)        18496     \n",
      "_________________________________________________________________\n",
      "activation_9 (Activation)    (None, 16, 16, 64)        0         \n",
      "_________________________________________________________________\n",
      "conv2d_10 (Conv2D)           (None, 16, 16, 64)        36928     \n",
      "_________________________________________________________________\n",
      "batch_normalization_5 (Batch (None, 16, 16, 64)        256       \n",
      "_________________________________________________________________\n",
      "activation_10 (Activation)   (None, 16, 16, 64)        0         \n",
      "_________________________________________________________________\n",
      "max_pooling2d_5 (MaxPooling2 (None, 8, 8, 64)          0         \n",
      "_________________________________________________________________\n",
      "conv2d_11 (Conv2D)           (None, 8, 8, 128)         73856     \n",
      "_________________________________________________________________\n",
      "activation_11 (Activation)   (None, 8, 8, 128)         0         \n",
      "_________________________________________________________________\n",
      "conv2d_12 (Conv2D)           (None, 8, 8, 128)         147584    \n",
      "_________________________________________________________________\n",
      "batch_normalization_6 (Batch (None, 8, 8, 128)         512       \n",
      "_________________________________________________________________\n",
      "activation_12 (Activation)   (None, 8, 8, 128)         0         \n",
      "_________________________________________________________________\n",
      "max_pooling2d_6 (MaxPooling2 (None, 2, 2, 128)         0         \n",
      "_________________________________________________________________\n",
      "flatten_2 (Flatten)          (None, 512)               0         \n",
      "_________________________________________________________________\n",
      "dropout_3 (Dropout)          (None, 512)               0         \n",
      "_________________________________________________________________\n",
      "dense_4 (Dense)              (None, 1024)              525312    \n",
      "_________________________________________________________________\n",
      "dropout_4 (Dropout)          (None, 1024)              0         \n",
      "_________________________________________________________________\n",
      "dense_5 (Dense)              (None, 512)               524800    \n",
      "_________________________________________________________________\n",
      "dense_6 (Dense)              (None, 10)                5130      \n",
      "=================================================================\n",
      "Total params: 1,343,146\n",
      "Trainable params: 1,342,698\n",
      "Non-trainable params: 448\n",
      "_________________________________________________________________\n"
     ]
    }
   ],
   "source": [
    "model50K = Sequential()\n",
    "model50K.add(Conv2D(32, (3, 3), padding='same', input_shape=(32, 32, 3)))\n",
    "model50K.add(Activation('relu'))\n",
    "\n",
    "model50K.add(Conv2D(32, (3, 3), padding='same'))\n",
    "model50K.add(BatchNormalization())\n",
    "model50K.add(Activation('relu'))\n",
    "\n",
    "model50K.add(MaxPooling2D((2, 2)))\n",
    "\n",
    "model50K.add(Conv2D(64, (3, 3), padding='same'))\n",
    "model50K.add(Activation('relu'))\n",
    "\n",
    "model50K.add(Conv2D(64, (3, 3), padding='same'))\n",
    "model50K.add(BatchNormalization())\n",
    "model50K.add(Activation('relu'))\n",
    "\n",
    "model50K.add(MaxPooling2D((2, 2)))\n",
    "\n",
    "model50K.add(Conv2D(128, (3, 3), padding='same'))\n",
    "model50K.add(Activation('relu'))\n",
    "\n",
    "model50K.add(Conv2D(128, (3, 3), padding='same'))\n",
    "model50K.add(BatchNormalization())\n",
    "model50K.add(Activation('relu'))\n",
    "\n",
    "model50K.add(MaxPooling2D((3, 3)))\n",
    "\n",
    "model50K.add(Flatten())\n",
    "\n",
    "model50K.add(Dropout(0.3))\n",
    "model50K.add(Dense(1024, activation='relu'))\n",
    "\n",
    "model50K.add(Dropout(0.5))\n",
    "model50K.add(Dense(512, activation='relu'))\n",
    "\n",
    "model50K.add(Dense(10, activation='softmax'))\n",
    "\n",
    "model50K.summary()\n",
    "\n",
    "learning_rate = 1E-5 \n",
    "\n",
    "model50K.compile(loss='categorical_crossentropy',\n",
    "              optimizer=optimizers.SGD(learning_rate=learning_rate, momentum=0.1),\n",
    "              metrics=['acc'])"
   ]
  },
  {
   "cell_type": "code",
   "execution_count": 12,
   "metadata": {},
   "outputs": [
    {
     "name": "stdout",
     "output_type": "stream",
     "text": [
      "Epoch 1/25\n",
      "50000/50000 [==============================] - 12s 239us/step - loss: 5.4893e-04 - acc: 0.0929\n",
      "Epoch 2/25\n",
      "50000/50000 [==============================] - 11s 221us/step - loss: 5.0097e-04 - acc: 0.1191\n",
      "Epoch 3/25\n",
      "50000/50000 [==============================] - 11s 219us/step - loss: 5.6602e-04 - acc: 0.1110\n",
      "Epoch 4/25\n",
      "50000/50000 [==============================] - 11s 218us/step - loss: 5.5266e-04 - acc: 0.1014\n",
      "Epoch 5/25\n",
      "50000/50000 [==============================] - 11s 218us/step - loss: 5.8037e-04 - acc: 0.0940\n",
      "Epoch 6/25\n",
      "50000/50000 [==============================] - 11s 218us/step - loss: 6.3392e-04 - acc: 0.0921\n",
      "Epoch 7/25\n",
      "50000/50000 [==============================] - 11s 217us/step - loss: 5.9725e-04 - acc: 0.0943\n",
      "Epoch 8/25\n",
      "50000/50000 [==============================] - 11s 217us/step - loss: 6.5988e-04 - acc: 0.0948\n",
      "Epoch 9/25\n",
      "50000/50000 [==============================] - 11s 217us/step - loss: 7.4377e-04 - acc: 0.0959\n",
      "Epoch 10/25\n",
      "50000/50000 [==============================] - 11s 217us/step - loss: 7.7202e-04 - acc: 0.0997\n",
      "Epoch 11/25\n",
      "50000/50000 [==============================] - 11s 217us/step - loss: 0.0015 - acc: 0.1003\n",
      "Epoch 12/25\n",
      "50000/50000 [==============================] - 11s 218us/step - loss: 0.0027 - acc: 0.1000\n",
      "Epoch 13/25\n",
      "50000/50000 [==============================] - 11s 228us/step - loss: nan - acc: 0.2128s - loss: nan - a\n",
      "Epoch 14/25\n",
      "50000/50000 [==============================] - 11s 219us/step - loss: nan - acc: 0.9998\n",
      "Epoch 15/25\n",
      "50000/50000 [==============================] - 11s 218us/step - loss: nan - acc: 0.9998\n",
      "Epoch 16/25\n",
      "50000/50000 [==============================] - 11s 219us/step - loss: nan - acc: 0.9998\n",
      "Epoch 17/25\n",
      "50000/50000 [==============================] - 11s 218us/step - loss: nan - acc: 0.9998\n",
      "Epoch 18/25\n",
      "50000/50000 [==============================] - 11s 219us/step - loss: nan - acc: 0.9998\n",
      "Epoch 19/25\n",
      "50000/50000 [==============================] - 11s 219us/step - loss: nan - acc: 0.9998\n",
      "Epoch 20/25\n",
      "50000/50000 [==============================] - 11s 218us/step - loss: nan - acc: 0.9998\n",
      "Epoch 21/25\n",
      "50000/50000 [==============================] - 11s 217us/step - loss: nan - acc: 0.9998\n",
      "Epoch 22/25\n",
      "50000/50000 [==============================] - 11s 218us/step - loss: nan - acc: 0.9998\n",
      "Epoch 23/25\n",
      "50000/50000 [==============================] - 11s 218us/step - loss: nan - acc: 0.9998\n",
      "Epoch 24/25\n",
      "50000/50000 [==============================] - 11s 218us/step - loss: nan - acc: 0.9998\n",
      "Epoch 25/25\n",
      "50000/50000 [==============================] - 11s 219us/step - loss: nan - acc: 0.9998\n"
     ]
    }
   ],
   "source": [
    "My_x_train = x_train/255.0 \n",
    "history = model50K.fit(My_x_train, y_train_vec, batch_size=64, epochs=25)"
   ]
  },
  {
   "cell_type": "markdown",
   "metadata": {},
   "source": [
    "### 3.2. Evaluate the model on the test set\n",
    "\n",
    "Do NOT used the test set until now. Make sure that your model parameters and hyper-parameters are independent of the test set."
   ]
  },
  {
   "cell_type": "code",
   "execution_count": 13,
   "metadata": {},
   "outputs": [
    {
     "name": "stdout",
     "output_type": "stream",
     "text": [
      "10000/10000 [==============================] - 2s 163us/step\n",
      "loss = nan\n",
      "accuracy = 0.9991000294685364\n"
     ]
    }
   ],
   "source": [
    "loss_and_acc = model50K.evaluate(x_test, y_test_vec)\n",
    "print('loss = ' + str(loss_and_acc[0]))\n",
    "print('accuracy = ' + str(loss_and_acc[1]))"
   ]
  },
  {
   "cell_type": "code",
   "execution_count": null,
   "metadata": {},
   "outputs": [],
   "source": []
  }
 ],
 "metadata": {
  "kernelspec": {
   "display_name": "Python 3",
   "language": "python",
   "name": "python3"
  },
  "language_info": {
   "codemirror_mode": {
    "name": "ipython",
    "version": 3
   },
   "file_extension": ".py",
   "mimetype": "text/x-python",
   "name": "python",
   "nbconvert_exporter": "python",
   "pygments_lexer": "ipython3",
   "version": "3.6.10"
  }
 },
 "nbformat": 4,
 "nbformat_minor": 2
}
